{
 "cells": [
  {
   "cell_type": "code",
   "execution_count": 2,
   "id": "87860bda-18e1-40be-820b-ca343ec3a68a",
   "metadata": {},
   "outputs": [
    {
     "name": "stdout",
     "output_type": "stream",
     "text": [
      "Error: Invalid value: abc\n",
      "Program completed successfully\n"
     ]
    }
   ],
   "source": [
    "#Principles Of Programming Languages ICS 1101\n",
    "#Lab Assignment 3\n",
    "#Reg Number: H250002N\n",
    "#Name: Rungano Alois T\n",
    "# Description: Simple program that sums numeric values and handles exceptions\n",
    "\n",
    "class NonNumericValueError(Exception):\n",
    "    \"\"\"Raised when a non-numeric value is found in the list.\"\"\"\n",
    "    pass\n",
    "\n",
    "def calculate(data):\n",
    "    result = 0\n",
    "    for item in data:\n",
    "        if isinstance(item, (int, float)):\n",
    "            result += item\n",
    "        else:\n",
    "            raise NonNumericValueError(f\"Invalid value: {item}\")\n",
    "    return result\n",
    "\n",
    "def main():\n",
    "    data = [10, 20, \"abc\", 30]\n",
    "    try:\n",
    "        total = calculate(data)\n",
    "        print(f\"Sum: {total}\")\n",
    "    except NonNumericValueError as e:\n",
    "        print(f\"Error: {e}\")\n",
    "    finally:\n",
    "        print(\"Program completed successfully\")\n",
    "\n",
    "if __name__ == \"__main__\":\n",
    "    main()\n"
   ]
  },
  {
   "cell_type": "code",
   "execution_count": null,
   "id": "f4778c50-5cd7-4958-adf3-5b1dc1a19079",
   "metadata": {},
   "outputs": [],
   "source": []
  }
 ],
 "metadata": {
  "kernelspec": {
   "display_name": "Python 3 (ipykernel)",
   "language": "python",
   "name": "python3"
  },
  "language_info": {
   "codemirror_mode": {
    "name": "ipython",
    "version": 3
   },
   "file_extension": ".py",
   "mimetype": "text/x-python",
   "name": "python",
   "nbconvert_exporter": "python",
   "pygments_lexer": "ipython3",
   "version": "3.13.5"
  }
 },
 "nbformat": 4,
 "nbformat_minor": 5
}
